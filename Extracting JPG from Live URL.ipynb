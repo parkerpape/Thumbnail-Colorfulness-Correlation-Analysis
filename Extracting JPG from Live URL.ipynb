{
 "cells": [
  {
   "cell_type": "code",
   "execution_count": null,
   "id": "f571a8d6-e43d-4dfc-aaee-fded661ccf5d",
   "metadata": {},
   "outputs": [],
   "source": [
    "# Printing entire HTML content to analyze structure\n",
    "\n",
    "import requests\n",
    "\n",
    "def print_full_html(url):\n",
    "    headers = {'User-Agent': 'Mozilla/5.0'}  # Spoofing a browser user-agent\n",
    "\n",
    "    try:\n",
    "        response = requests.get(url, headers=headers)\n",
    "        response.raise_for_status()\n",
    "        print(response.text)  # Print the entire HTML content\n",
    "    except requests.exceptions.RequestException as e:\n",
    "        print(f\"Request failed: {e}\")\n",
    "\n",
    "# Example usage\n",
    "video_url = \"https://weather.com/storms/severe/video/flooding-severe-weather-in-plains-south-this-weekend\"\n",
    "print_full_html(video_url)"
   ]
  },
  {
   "cell_type": "code",
   "execution_count": 14,
   "id": "50282495-dc82-4042-99c3-cb411fbfdeef",
   "metadata": {},
   "outputs": [
    {
     "name": "stdout",
     "output_type": "stream",
     "text": [
      "High-quality thumbnail URL:\n",
      "https://s.w-x.co/MilkyWay4.jpg?crop=16%3A9&width=1920&format=pjpg&auto=webp&quality=90\n"
     ]
    }
   ],
   "source": [
    "import requests\n",
    "from bs4 import BeautifulSoup\n",
    "from urllib.parse import urlparse, parse_qs, urlencode, urlunparse\n",
    "\n",
    "# Image quality needs to be better quality version found within HTML structure\n",
    " \n",
    "def upgrade_thumbnail_url(thumbnail_url, width='1920', quality='90'):\n",
    "    \"\"\"Modify URL parameters for better quality.\"\"\"\n",
    "    parsed = urlparse(thumbnail_url)\n",
    "    query = parse_qs(parsed.query)\n",
    "\n",
    "    # Update parameters\n",
    "    query['width'] = width\n",
    "    query['quality'] = quality\n",
    "\n",
    "    # Flatten the query dict back to string\n",
    "    new_query = urlencode(query, doseq=True)\n",
    "\n",
    "    # Rebuild full URL\n",
    "    return urlunparse((parsed.scheme, parsed.netloc, parsed.path, parsed.params, new_query, parsed.fragment))\n",
    "\n",
    "# Extraction of JPG from URL\n",
    "def extract_video_thumbnail(url):\n",
    "    headers = {\n",
    "        'User-Agent': 'Mozilla/5.0'\n",
    "    }\n",
    "\n",
    "    try:\n",
    "        response = requests.get(url, headers=headers)\n",
    "        response.raise_for_status()\n",
    "        soup = BeautifulSoup(response.text, 'html.parser')\n",
    "\n",
    "        img_tag = soup.find('img', class_='Image--rounded--BnTyA Image--intrinsicRatioElement--bFd9O')\n",
    "\n",
    "        if img_tag and img_tag.get('src'):\n",
    "            low_quality_url = img_tag['src']\n",
    "            high_quality_url = upgrade_thumbnail_url(low_quality_url)\n",
    "            print(\"High-quality thumbnail URL:\")\n",
    "            print(high_quality_url)\n",
    "        else:\n",
    "            print(\"Thumbnail not found.\")\n",
    "\n",
    "    except requests.exceptions.RequestException as e:\n",
    "        print(f\"Request failed: {e}\")\n",
    "\n",
    "# Example usage\n",
    "video_url = \"https://weather.com/science/space/video/see-the-milky-way-night-sky-astronomy\"\n",
    "extract_video_thumbnail(video_url)"
   ]
  },
  {
   "cell_type": "code",
   "execution_count": null,
   "id": "1bbff863-4c00-4d2f-a0c7-fd3f89410de4",
   "metadata": {},
   "outputs": [],
   "source": []
  }
 ],
 "metadata": {
  "kernelspec": {
   "display_name": "Python [conda env:base] *",
   "language": "python",
   "name": "conda-base-py"
  },
  "language_info": {
   "codemirror_mode": {
    "name": "ipython",
    "version": 3
   },
   "file_extension": ".py",
   "mimetype": "text/x-python",
   "name": "python",
   "nbconvert_exporter": "python",
   "pygments_lexer": "ipython3",
   "version": "3.12.7"
  }
 },
 "nbformat": 4,
 "nbformat_minor": 5
}
